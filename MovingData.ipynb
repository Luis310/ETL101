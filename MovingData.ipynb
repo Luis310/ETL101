{
 "cells": [
  {
   "cell_type": "code",
   "execution_count": 4,
   "id": "6b5940ff",
   "metadata": {},
   "outputs": [
    {
     "name": "stdout",
     "output_type": "stream",
     "text": [
      "12d012a511ad78a1ea88c594b0ed1910\n"
     ]
    }
   ],
   "source": [
    "import requests\n",
    "import pandas as pd\n",
    "import pyodbc\n",
    "import os\n",
    "from dotenv import load_dotenv \n",
    "load_dotenv()\n",
    "API_KEY = os.getenv(\"OPENWEATHER_KEY\")\n",
    "CITY_NAME= \"Guatemala\"\n",
    "URL2 = f\"https://api.openweathermap.org/data/2.5/forecast?q={CITY_NAME}&appid={API_KEY}\"\n",
    "response = requests.get(URL2)\n",
    "data = response.json()\n",
    "#print (data)\n"
   ]
  },
  {
   "cell_type": "code",
   "execution_count": 3,
   "id": "eeed935d",
   "metadata": {},
   "outputs": [
    {
     "ename": "IndentationError",
     "evalue": "unindent does not match any outer indentation level (<tokenize>, line 34)",
     "output_type": "error",
     "traceback": [
      "\u001b[1;36m  File \u001b[1;32m<tokenize>:34\u001b[1;36m\u001b[0m\n\u001b[1;33m    \"\"\", row.city, row.temperature, row.humidity, row.description, row.date)\u001b[0m\n\u001b[1;37m    ^\u001b[0m\n\u001b[1;31mIndentationError\u001b[0m\u001b[1;31m:\u001b[0m unindent does not match any outer indentation level\n"
     ]
    }
   ],
   "source": [
    "weather = {\n",
    "    \"city\": data[\"name\"],\n",
    "    \"temperature\": data[\"main\"][\"temp\"],\n",
    "    \"humidity\": data[\"main\"][\"humidity\"],\n",
    "    \"description\": data[\"weather\"][0][\"description\"],\n",
    "    \"date\": pd.Timestamp.now()\n",
    "}\n",
    "df = pd.DataFrame([weather])  # one-row DataFrame\n",
    "print(df)\n",
    "\n",
    "conn = pyodbc.connect(\n",
    "    'DRIVER={ODBC Driver 17 for SQL Server};'\n",
    "    'SERVER=localhost;'\n",
    "    'DATABASE=Python;'\n",
    "    'Trusted_Connection=yes;'\n",
    ")\n",
    "cursor = conn.cursor()\n",
    "\n",
    "for _, row in df.iterrows():\n",
    "    cursor.execute(\"\"\"\n",
    "        INSERT INTO WeatherData (City, Temperature, Humidity, Description, Date)\n",
    "        VALUES (?, ?, ?, ?, ?)\n",
    "    \"\"\", row.city, row.temperature, row.humidity, row.description, row.date)\n",
    "\n",
    "conn.commit()\n",
    "cursor.close()\n",
    "conn.close()"
   ]
  }
 ],
 "metadata": {
  "kernelspec": {
   "display_name": "Python 3 (ipykernel)",
   "language": "python",
   "name": "python3"
  },
  "language_info": {
   "codemirror_mode": {
    "name": "ipython",
    "version": 3
   },
   "file_extension": ".py",
   "mimetype": "text/x-python",
   "name": "python",
   "nbconvert_exporter": "python",
   "pygments_lexer": "ipython3",
   "version": "3.11.4"
  }
 },
 "nbformat": 4,
 "nbformat_minor": 5
}
